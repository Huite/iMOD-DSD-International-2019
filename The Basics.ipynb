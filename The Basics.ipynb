{
 "cells": [
  {
   "cell_type": "markdown",
   "metadata": {},
   "source": [
    "The Basics\n",
    "==========\n",
    "\n",
    "Viewing geospatial data isn't difficult: there are a number of graphical user\n",
    "interfaces (GUIs) available that allow you you to inspect your data. Modifying\n",
    "and transforming the data, on the other hand, isn't so easy: changing single cells\n",
    "is too laborious for all but the most trivial example, and anything more\n",
    "complicated than a single addition or multiplication seems rather intricate.\n",
    "\n",
    "Fortunately, the Python package``xarray`` provides a very versatile toolbox to do \n",
    "exactly this. Let's start by importing ``imod`` package and setting up some data."
   ]
  },
  {
   "cell_type": "code",
   "execution_count": null,
   "metadata": {},
   "outputs": [],
   "source": [
    "import imod\n",
    "# Shut up some annoying warnings as well\n",
    "import warnings\n",
    "warnings.simplefilter(action=\"ignore\", category=RuntimeWarning)\n",
    "# Unzip the data directory\n",
    "import zipfile\n",
    "with zipfile.ZipFile(\"data.zip\", \"r\") as f:\n",
    "    f.extractall(\"data\")"
   ]
  },
  {
   "cell_type": "markdown",
   "metadata": {},
   "source": [
    "We have prepared two example files:\n",
    "\n",
    " 1. A digital elevation map (DEM) in geotiff (.tif) format.\n",
    " 2. A groundwater model head result in .idf format.\n",
    "\n",
    "We can load both of these into Python using an ``imod`` function."
   ]
  },
  {
   "cell_type": "code",
   "execution_count": null,
   "metadata": {},
   "outputs": [],
   "source": [
    "dem = imod.rasterio.open(\"data/dem.tif\")\n",
    "head = imod.idf.open(\"data/head.idf\")"
   ]
  },
  {
   "cell_type": "markdown",
   "metadata": {},
   "source": [
    "Let's have a look at how these files are represented within Python by xarray:"
   ]
  },
  {
   "cell_type": "code",
   "execution_count": null,
   "metadata": {},
   "outputs": [],
   "source": [
    "print(dem)\n",
    "print(\"\\n\")\n",
    "print(head)"
   ]
  },
  {
   "cell_type": "markdown",
   "metadata": {},
   "source": [
    "Both files have been loaded into an xarray object called a DataArray.\n",
    "In overview, a DataArray consists of:\n",
    "\n",
    "1. A (numpy) array with data.\n",
    "2. Coordinates, describing in this case the geographical location of the data.\n",
    "\n",
    "By printing the DataArrays above, we can see that the data has two dimensions,\n",
    "which are described by the coordinates ``\"y\"`` and ``\"x\"``, as we would expect\n",
    "from geospatial data.\n",
    "\n",
    "Let's start with a simple operation: subtracting ``head`` from ``dem`` to\n",
    "create a DataArray that shows us the depth of the groundwater table."
   ]
  },
  {
   "cell_type": "code",
   "execution_count": null,
   "metadata": {},
   "outputs": [],
   "source": [
    "depth = dem - head"
   ]
  },
  {
   "cell_type": "markdown",
   "metadata": {},
   "source": [
    "What does it look like? Xarray provides built-in plotting functions to directly\n",
    "create (``matplotlib``) plots."
   ]
  },
  {
   "cell_type": "code",
   "execution_count": null,
   "metadata": {},
   "outputs": [],
   "source": [
    "depth.plot()"
   ]
  },
  {
   "cell_type": "markdown",
   "metadata": {},
   "source": [
    "Another typical operation is conditional evaluation. Let's classify all the areas\n",
    "with relatively deep groundwater levels (deep in Dutch terms, that is)."
   ]
  },
  {
   "cell_type": "code",
   "execution_count": null,
   "metadata": {},
   "outputs": [],
   "source": [
    "is_deep = depth > 5.0\n",
    "print(is_deep)"
   ]
  },
  {
   "cell_type": "markdown",
   "metadata": {},
   "source": [
    "Observe that ``is_deep`` has as its datatype ``bool``.  In Python\n",
    "(and many other languages), boolean values are a subclass of integers. A value\n",
    "of ``True`` also equals 1, and a value of ``False`` also equals 0.\n",
    "\n",
    "Plotting the result also shows ones and zeros:"
   ]
  },
  {
   "cell_type": "code",
   "execution_count": null,
   "metadata": {},
   "outputs": [],
   "source": [
    "is_deep.plot()"
   ]
  },
  {
   "cell_type": "markdown",
   "metadata": {},
   "source": [
    "An essential feature of xarray is that it represents nodata values by\n",
    "Not-A-Number (``nan``). ``nan`` values have specific behaviour that sets them\n",
    "apart from other floating point values:"
   ]
  },
  {
   "cell_type": "code",
   "execution_count": null,
   "metadata": {},
   "outputs": [],
   "source": [
    "import numpy as np\n",
    "\n",
    "print(1.0 > np.nan)\n",
    "print(1.0 <= np.nan)"
   ]
  },
  {
   "cell_type": "markdown",
   "metadata": {},
   "source": [
    "``nan`` is neither larger nor smaller than 1.0. After all, it's not a number.\n",
    "This has some ramifications for boolean selection. It means that the result of\n",
    "a ``>`` operation is not the exact inverse of a ``<=`` operation!\n",
    "\n",
    "We'll import ``matplotlib`` to show an example, side-by-side."
   ]
  },
  {
   "cell_type": "code",
   "execution_count": null,
   "metadata": {},
   "outputs": [],
   "source": [
    "import matplotlib.pyplot as plt\n",
    "\n",
    "is_shallow = depth <= 5.0\n",
    "fig, (ax1, ax2) = plt.subplots(nrows=1, ncols=2, figsize=(9, 4))\n",
    "is_shallow.plot(ax=ax1)\n",
    "is_deep.plot(ax=ax2)"
   ]
  },
  {
   "cell_type": "markdown",
   "metadata": {},
   "source": [
    "To get the exact inverse, we can use the inverse operator: ``~``.\n",
    "For boolean, inversion equals logical not."
   ]
  },
  {
   "cell_type": "code",
   "execution_count": null,
   "metadata": {},
   "outputs": [],
   "source": [
    "fig, (ax1, ax2) = plt.subplots(nrows=1, ncols=2, figsize=(9, 4))\n",
    "is_shallow.plot(ax=ax1)\n",
    "(~is_shallow).plot(ax=ax2)"
   ]
  },
  {
   "cell_type": "markdown",
   "metadata": {},
   "source": [
    "There are three more operators to be aware of:\n",
    "1. and: ``&``\n",
    "2. or: ``|``\n",
    "3. exclusive or (xor): ``^``\n",
    "\n",
    "Now, using the boolean results, let's select only the shallow groundwater depths."
   ]
  },
  {
   "cell_type": "code",
   "execution_count": null,
   "metadata": {},
   "outputs": [],
   "source": [
    "shallow_depth = depth.where(cond=is_shallow)\n",
    "shallow_depth.plot()"
   ]
  },
  {
   "cell_type": "markdown",
   "metadata": {},
   "source": [
    "Great, we've selected only the shallow parts. What if we want to replace the\n",
    "values, based on some condition?  ``.where()`` has another keyword: ``other``.\n",
    "This value is used where the condition is ``False``. \n",
    "\n",
    "Replacing all values deeper than 10 is done as follows:"
   ]
  },
  {
   "cell_type": "code",
   "execution_count": null,
   "metadata": {},
   "outputs": [],
   "source": [
    "modified_depth = depth.where(cond=depth < 10.0, other=10.0)\n",
    "modified_depth.plot()"
   ]
  },
  {
   "cell_type": "markdown",
   "metadata": {},
   "source": [
    "Note: the default value of ``other`` is ``nan``. If you don't provide a value\n",
    "for ``other``, you're not really \"selecting\" the data, you're actually marking\n",
    "part of it as nodata!\n",
    "\n",
    "Note that the nodata parts also have been filled with value of ``10.0``.\n",
    "The reason is as mentioned above: ``nan < 10.0`` evaluates to ``False``.\n",
    "\n",
    "In such a case, it's most straightforward to explicitly preserve nodata values:"
   ]
  },
  {
   "cell_type": "code",
   "execution_count": null,
   "metadata": {},
   "outputs": [],
   "source": [
    "modified_depth = depth.where(cond=depth < 10.0, other=10.0).where(depth.notnull())\n",
    "modified_depth.plot()"
   ]
  },
  {
   "cell_type": "markdown",
   "metadata": {},
   "source": [
    "We save our ``modified_depth`` to both ``.tif`` and ``.idf`` format for\n",
    "safekeeping:"
   ]
  },
  {
   "cell_type": "code",
   "execution_count": null,
   "metadata": {},
   "outputs": [],
   "source": [
    "imod.idf.write(\"modified_depth.idf\", modified_depth)\n",
    "imod.rasterio.write(\"modified_depth.tif\", modified_depth)"
   ]
  },
  {
   "cell_type": "markdown",
   "metadata": {},
   "source": [
    "Summarizing, we've seen:\n",
    "\n",
    "* Reading geospatial data into DataArrays\n",
    "* Simple arithmetic\n",
    "* Plotting\n",
    "* Conditional filtering\n",
    "* Writing DataArrays to disk\n",
    "\n",
    "Those are the basics. Continue with the next tutorial to work on some more\n",
    "interesting examples."
   ]
  }
 ],
 "metadata": {
  "kernelspec": {
   "display_name": "Python 3",
   "language": "python",
   "name": "python3"
  },
  "language_info": {
   "codemirror_mode": {
    "name": "ipython",
    "version": 3
   },
   "file_extension": ".py",
   "mimetype": "text/x-python",
   "name": "python",
   "nbconvert_exporter": "python",
   "pygments_lexer": "ipython3",
   "version": "3.7.3"
  }
 },
 "nbformat": 4,
 "nbformat_minor": 2
}
